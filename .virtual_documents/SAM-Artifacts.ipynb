import cv2
import matplotlib.pyplot as plt

interactive_fig = None
interactive_fig_styles = None

def plot_images(images, titles, figure_size):
    %matplotlib inline
    if interactive_fig is not None:
        plt.close(interactive_fig)
    if interactive_fig_styles is not None:
        plt.close(interactive_fig_styles)
    plt.figure(figsize=(figure_size, figure_size))
    for i in range(len(images)):
        image = images[i]
        title = titles[i]
        plt.subplot(1, len(images), i + 1)
        plt.imshow(image)
        plt.title(title)
        plt.axis('off')



style_image = cv2.imread('styles/style-2.jpg')
style_image = cv2.cvtColor(style_image, cv2.COLOR_BGR2RGB)

styled_image = cv2.imread('processed_image.jpg')
styled_image = cv2.cvtColor(styled_image, cv2.COLOR_BGR2RGB)

mask = cv2.imread('quantification/2_mask.jpg')
mask = cv2.cvtColor(mask, cv2.COLOR_BGR2RGB)

original_image = cv2.imread('sources/image-2.png')
original_image = cv2.cvtColor(original_image, cv2.COLOR_BGR2RGB)

plot_images([original_image, style_image, mask, styled_image], ['Original Image', 'Style', 'Mask', 'Styled Then Masked'], 15)



plot_images([original_image], ['Original Image'], 15)
plot_images([styled_image], ['Styled Then Masked'], 15)



